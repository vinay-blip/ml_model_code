{
  "cells": [
    {
      "cell_type": "markdown",
      "metadata": {
        "id": "view-in-github",
        "colab_type": "text"
      },
      "source": [
        "<a href=\"https://colab.research.google.com/github/vinay-blip/ml_model_code/blob/main/model.ipynb\" target=\"_parent\"><img src=\"https://colab.research.google.com/assets/colab-badge.svg\" alt=\"Open In Colab\"/></a>"
      ]
    },
    {
      "cell_type": "code",
      "source": [
        "from sklearn.model_selection import train_test_split\n",
        "import matplotlib.pyplot as plt\n",
        "import tensorflow as tf\n",
        "import pandas as pd\n",
        "import numpy as np\n",
        "import glob\n",
        "glass = glob.glob('dataset/glass/*.*')\n",
        "metal = glob.glob('dataset/metal/*.*')\n",
        "paper = glob.glob('dataset/paper/*.*')\n",
        "plastic = glob.glob('dataset/plastic/*.*')\n",
        "data = []\n",
        "labels = []\n",
        "for i in glass:   \n",
        "    image=tf.keras.preprocessing.image.load_img(i, color_mode='rgb', \n",
        "    target_size= (200,200))\n",
        "    image=np.array(image)\n",
        "    data.append(image)\n",
        "    labels.append(0)\n",
        "for i in metal:   \n",
        "    image=tf.keras.preprocessing.image.load_img(i, color_mode='rgb', \n",
        "    target_size= (200,200))\n",
        "    image=np.array(image)\n",
        "    data.append(image)\n",
        "    labels.append(1)  \n",
        "for i in paper:   \n",
        "    image=tf.keras.preprocessing.image.load_img(i, color_mode='rgb', \n",
        "    target_size= (200,200))\n",
        "    image=np.array(image)\n",
        "    data.append(image)\n",
        "    labels.append(2)\n",
        "for i in plastic:   \n",
        "    image=tf.keras.preprocessing.image.load_img(i, color_mode='rgb', \n",
        "    target_size= (200,200))\n",
        "    image=np.array(image)\n",
        "    data.append(image)\n",
        "    labels.append(3)\n",
        "\n",
        "data = np.array(data)\n",
        "labels = np.array(labels)\n",
        "\n",
        "X_train, X_test, y_train, y_test = train_test_split(data, labels, test_size=0.2,\n",
        "                                                random_state=42)"
      ],
      "metadata": {
        "id": "epx53G0zaaSI"
      },
      "execution_count": 1,
      "outputs": []
    },
    {
      "cell_type": "code",
      "source": [
        "classes = ['glass','metal','paper','plastic']\n",
        "X_train = X_train / 255\n",
        "X_test = X_test / 255"
      ],
      "metadata": {
        "id": "MAjaRvB4adzr"
      },
      "execution_count": 2,
      "outputs": []
    },
    {
      "cell_type": "code",
      "source": [
        "model = tf.keras.models.Sequential([\n",
        "    tf.keras.layers.Conv2D(16,(3,3),activation='relu',input_shape=(200,200,3)),\n",
        "    tf.keras.layers.MaxPool2D(2,2),\n",
        "    #\n",
        "    tf.keras.layers.Conv2D(32,(3,3),activation='relu'),\n",
        "    tf.keras.layers.MaxPool2D(2,2),\n",
        "    #\n",
        "    tf.keras.layers.Conv2D(64,(3,3),activation='relu'),\n",
        "    tf.keras.layers.MaxPool2D(2,2),\n",
        "    #\n",
        "    tf.keras.layers.Flatten(),\n",
        "    #\n",
        "    tf.keras.layers.Dense(512,activation='relu'),\n",
        "    #\n",
        "    tf.keras.layers.Dense(4,activation='sigmoid')\n",
        "])\n"
      ],
      "metadata": {
        "id": "IQcnaGRJagfW"
      },
      "execution_count": 3,
      "outputs": []
    },
    {
      "cell_type": "code",
      "source": [
        "model.compile(optimizer = 'adam',\n",
        "              loss = 'sparse_categorical_crossentropy',\n",
        "              metrics=['accuracy']\n",
        "             )\n",
        "model_fit = model.fit(X_train, y_train, steps_per_epoch=50, epochs = 5)"
      ],
      "metadata": {
        "colab": {
          "base_uri": "https://localhost:8080/"
        },
        "id": "0zlGWHkDaivZ",
        "outputId": "bfa9630c-887c-4212-ad74-ef8da1a37a69"
      },
      "execution_count": 7,
      "outputs": [
        {
          "output_type": "stream",
          "name": "stdout",
          "text": [
            "Epoch 1/5\n",
            "50/50 [==============================] - 186s 2s/step - loss: 1.1166 - accuracy: 0.5066\n",
            "Epoch 2/5\n",
            "50/50 [==============================] - 79s 2s/step - loss: 0.8682 - accuracy: 0.6344\n",
            "Epoch 3/5\n",
            "50/50 [==============================] - 80s 2s/step - loss: 0.6639 - accuracy: 0.7432\n",
            "Epoch 4/5\n",
            "50/50 [==============================] - 79s 2s/step - loss: 0.4836 - accuracy: 0.8156\n",
            "Epoch 5/5\n",
            "50/50 [==============================] - 80s 2s/step - loss: 0.3211 - accuracy: 0.8823\n"
          ]
        }
      ]
    },
    {
      "cell_type": "code",
      "source": [
        "model.evaluate(X_test,y_test)"
      ],
      "metadata": {
        "colab": {
          "base_uri": "https://localhost:8080/"
        },
        "id": "eTuoDTHhniVZ",
        "outputId": "25c4893a-b2d1-40ba-fed9-3babeea7b0be"
      },
      "execution_count": 8,
      "outputs": [
        {
          "output_type": "stream",
          "name": "stdout",
          "text": [
            "13/13 [==============================] - 6s 457ms/step - loss: 1.1969 - accuracy: 0.6432\n"
          ]
        },
        {
          "output_type": "execute_result",
          "data": {
            "text/plain": [
              "[1.1968663930892944, 0.643216073513031]"
            ]
          },
          "metadata": {},
          "execution_count": 8
        }
      ]
    },
    {
      "cell_type": "code",
      "source": [
        "y_pred = model.predict(X_test)\n",
        "y_pred[:5]"
      ],
      "metadata": {
        "colab": {
          "base_uri": "https://localhost:8080/"
        },
        "id": "PJsw5PrVpEqZ",
        "outputId": "6881e1c8-d792-448a-fa93-904ad1ea030f"
      },
      "execution_count": 14,
      "outputs": [
        {
          "output_type": "stream",
          "name": "stdout",
          "text": [
            "13/13 [==============================] - 5s 367ms/step\n"
          ]
        },
        {
          "output_type": "execute_result",
          "data": {
            "text/plain": [
              "array([[0.73839676, 0.39740288, 0.58348113, 0.36516064],\n",
              "       [0.28072345, 0.3232503 , 0.5137668 , 0.79007345],\n",
              "       [0.6841931 , 0.15770185, 0.11888638, 0.9226688 ],\n",
              "       [0.00194221, 0.3916418 , 0.99928164, 0.9021803 ],\n",
              "       [0.10878314, 0.02427763, 0.11175458, 0.99215305]], dtype=float32)"
            ]
          },
          "metadata": {},
          "execution_count": 14
        }
      ]
    },
    {
      "cell_type": "code",
      "source": [
        "y_classes = [np.argmax(element) for element in y_pred]\n",
        "y_classes[:10]"
      ],
      "metadata": {
        "colab": {
          "base_uri": "https://localhost:8080/"
        },
        "id": "W1c16JIeuNoQ",
        "outputId": "f2655026-264e-4669-bb69-4b64d76c9c6e"
      },
      "execution_count": 16,
      "outputs": [
        {
          "output_type": "execute_result",
          "data": {
            "text/plain": [
              "array([0, 3, 1, 2, 3, 0, 2, 3, 2, 2])"
            ]
          },
          "metadata": {},
          "execution_count": 16
        }
      ]
    },
    {
      "cell_type": "code",
      "source": [
        "y_test[:10]"
      ],
      "metadata": {
        "colab": {
          "base_uri": "https://localhost:8080/"
        },
        "id": "QvbULF8puVhG",
        "outputId": "101c63ed-4013-4096-a3da-ec6ef6402139"
      },
      "execution_count": 17,
      "outputs": [
        {
          "output_type": "execute_result",
          "data": {
            "text/plain": [
              "array([0, 3, 1, 2, 3, 0, 2, 3, 2, 2])"
            ]
          },
          "metadata": {},
          "execution_count": 17
        }
      ]
    }
  ],
  "metadata": {
    "colab": {
      "name": "Welcome to Colaboratory",
      "provenance": [],
      "include_colab_link": true
    },
    "kernelspec": {
      "display_name": "Python 3",
      "name": "python3"
    }
  },
  "nbformat": 4,
  "nbformat_minor": 0
}